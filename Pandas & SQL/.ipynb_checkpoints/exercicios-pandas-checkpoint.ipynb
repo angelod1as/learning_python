{
 "cells": [
  {
   "cell_type": "markdown",
   "id": "eb29fb7a-5c3a-46df-a5f9-627148c66351",
   "metadata": {},
   "source": [
    "## Exercícios"
   ]
  },
  {
   "cell_type": "markdown",
   "id": "ad2f7eba-5091-4fec-b113-487186883a09",
   "metadata": {},
   "source": [
    "Link para Dataset: https://www.kaggle.com/datasets/matheusfreitag/gas-prices-in-brazil"
   ]
  },
  {
   "cell_type": "code",
   "execution_count": 9,
   "id": "d0e9c6b9-3840-47a5-956f-9954b612c657",
   "metadata": {},
   "outputs": [],
   "source": [
    "import pandas as pd\n",
    "import glob\n",
    "from pathlib import Path"
   ]
  },
  {
   "cell_type": "markdown",
   "id": "76366baf-6608-4ad2-b14b-ff048e5adb90",
   "metadata": {},
   "source": [
    "## Neste projeto, trabalharemos com dois arquivos csvs separados, contendo informações sobre o preço da gasolina no Brasil. \n",
    "\n",
    "### 1. Carregue os conjuntos de dados \"gasolina_2000+.csv\" e \"gasolina_2010+.csv\" em dois DataFrames diferentes e combine-os em um único DataFrame."
   ]
  },
  {
   "cell_type": "code",
   "execution_count": 16,
   "id": "c7decfae-2c39-48fb-8412-6dd2e789f28e",
   "metadata": {},
   "outputs": [
    {
     "name": "stdout",
     "output_type": "stream",
     "text": [
      "       Unnamed: 0 DATA INICIAL  DATA FINAL        REGIÃO              ESTADO  \\\n",
      "0               0   2004-05-09  2004-05-15  CENTRO OESTE    DISTRITO FEDERAL   \n",
      "1               1   2004-05-09  2004-05-15  CENTRO OESTE               GOIAS   \n",
      "2               2   2004-05-09  2004-05-15  CENTRO OESTE         MATO GROSSO   \n",
      "3               3   2004-05-09  2004-05-15  CENTRO OESTE  MATO GROSSO DO SUL   \n",
      "4               4   2004-05-09  2004-05-15      NORDESTE             ALAGOAS   \n",
      "...           ...          ...         ...           ...                 ...   \n",
      "78180      120818   2021-04-25  2021-05-01         NORTE             RORAIMA   \n",
      "78181      120819   2021-04-25  2021-05-01           SUL      SANTA CATARINA   \n",
      "78182      120820   2021-04-25  2021-05-01       SUDESTE           SAO PAULO   \n",
      "78183      120821   2021-04-25  2021-05-01      NORDESTE             SERGIPE   \n",
      "78184      120822   2021-04-25  2021-05-01         NORTE           TOCANTINS   \n",
      "\n",
      "                PRODUTO  NÚMERO DE POSTOS PESQUISADOS UNIDADE DE MEDIDA  \\\n",
      "0      ETANOL HIDRATADO                           127              R$/l   \n",
      "1      ETANOL HIDRATADO                           387              R$/l   \n",
      "2      ETANOL HIDRATADO                           192              R$/l   \n",
      "3      ETANOL HIDRATADO                           162              R$/l   \n",
      "4      ETANOL HIDRATADO                           103              R$/l   \n",
      "...                 ...                           ...               ...   \n",
      "78180   OLEO DIESEL S10                            12              R$/l   \n",
      "78181   OLEO DIESEL S10                           100              R$/l   \n",
      "78182   OLEO DIESEL S10                           886              R$/l   \n",
      "78183   OLEO DIESEL S10                            33              R$/l   \n",
      "78184   OLEO DIESEL S10                            18              R$/l   \n",
      "\n",
      "       PREÇO MÉDIO REVENDA  DESVIO PADRÃO REVENDA  PREÇO MÍNIMO REVENDA  \\\n",
      "0                    1.288                  0.016                 1.190   \n",
      "1                    1.162                  0.114                 0.890   \n",
      "2                    1.389                  0.097                 1.180   \n",
      "3                    1.262                  0.070                 1.090   \n",
      "4                    1.181                  0.078                 1.050   \n",
      "...                    ...                    ...                   ...   \n",
      "78180                4.582                  0.056                 4.510   \n",
      "78181                4.141                  0.187                 3.838   \n",
      "78182                4.246                  0.216                 3.769   \n",
      "78183                4.464                  0.205                 4.190   \n",
      "78184                4.352                  0.156                 4.199   \n",
      "\n",
      "       PREÇO MÁXIMO REVENDA MARGEM MÉDIA REVENDA  COEF DE VARIAÇÃO REVENDA  \\\n",
      "0                     1.350                0.463                     0.012   \n",
      "1                     1.449                0.399                     0.098   \n",
      "2                     1.760                0.419                     0.070   \n",
      "3                     1.509                0.432                     0.055   \n",
      "4                     1.400                 0.24                     0.066   \n",
      "...                     ...                  ...                       ...   \n",
      "78180                 4.690             -99999.0                     0.012   \n",
      "78181                 4.739             -99999.0                     0.045   \n",
      "78182                 5.199             -99999.0                     0.051   \n",
      "78183                 4.699             -99999.0                     0.046   \n",
      "78184                 4.699             -99999.0                     0.036   \n",
      "\n",
      "      PREÇO MÉDIO DISTRIBUIÇÃO DESVIO PADRÃO DISTRIBUIÇÃO  \\\n",
      "0                        0.825                       0.11   \n",
      "1                        0.763                      0.088   \n",
      "2                         0.97                      0.095   \n",
      "3                         0.83                      0.119   \n",
      "4                        0.941                      0.077   \n",
      "...                        ...                        ...   \n",
      "78180                 -99999.0                   -99999.0   \n",
      "78181                 -99999.0                   -99999.0   \n",
      "78182                 -99999.0                   -99999.0   \n",
      "78183                 -99999.0                   -99999.0   \n",
      "78184                 -99999.0                   -99999.0   \n",
      "\n",
      "      PREÇO MÍNIMO DISTRIBUIÇÃO PREÇO MÁXIMO DISTRIBUIÇÃO  \\\n",
      "0                        0.4201                    0.9666   \n",
      "1                        0.5013                      1.05   \n",
      "2                        0.5614                     1.161   \n",
      "3                        0.5991                   1.22242   \n",
      "4                        0.7441                    1.0317   \n",
      "...                         ...                       ...   \n",
      "78180                  -99999.0                  -99999.0   \n",
      "78181                  -99999.0                  -99999.0   \n",
      "78182                  -99999.0                  -99999.0   \n",
      "78183                  -99999.0                  -99999.0   \n",
      "78184                  -99999.0                  -99999.0   \n",
      "\n",
      "      COEF DE VARIAÇÃO DISTRIBUIÇÃO  \n",
      "0                             0.133  \n",
      "1                             0.115  \n",
      "2                             0.098  \n",
      "3                             0.143  \n",
      "4                             0.082  \n",
      "...                             ...  \n",
      "78180                      -99999.0  \n",
      "78181                      -99999.0  \n",
      "78182                      -99999.0  \n",
      "78183                      -99999.0  \n",
      "78184                      -99999.0  \n",
      "\n",
      "[120823 rows x 19 columns]\n"
     ]
    },
    {
     "name": "stderr",
     "output_type": "stream",
     "text": [
      "/var/folders/8k/myz6l6pd7wgdzb2c6r8z91tw0000gn/T/ipykernel_96156/1130276978.py:6: DtypeWarning: Columns (12,14,15,16,17,18) have mixed types. Specify dtype option on import or set low_memory=False.\n",
      "  df = pd.read_csv(filename)\n"
     ]
    }
   ],
   "source": [
    "file_path = Path('./src')\n",
    "\n",
    "li = []\n",
    "\n",
    "for filename in file_path.glob('*.csv'):\n",
    "  df = pd.read_csv(filename)\n",
    "  li.append(df)\n",
    "\n",
    "frame = pd.concat(li)\n",
    "print(frame)\n"
   ]
  },
  {
   "cell_type": "markdown",
   "id": "6cd74f39-565b-47ea-9171-9679eb964b1c",
   "metadata": {},
   "source": [
    "### 2.Investigue as colunas e entenda o conjunto de dados usando o head() e info()"
   ]
  },
  {
   "cell_type": "code",
   "execution_count": null,
   "id": "079e63b5-4836-4332-86ee-11c804543571",
   "metadata": {},
   "outputs": [],
   "source": []
  },
  {
   "cell_type": "markdown",
   "id": "2bcb2d2f-1c32-4583-8981-ca5b6ed0e048",
   "metadata": {},
   "source": [
    "### 3. Selecione a terceira entrada da coluna DATA INICIAL e verifique seu tipo."
   ]
  },
  {
   "cell_type": "code",
   "execution_count": null,
   "id": "c4399a8c-0ad3-4b6e-bcd8-d701438892fe",
   "metadata": {},
   "outputs": [],
   "source": []
  },
  {
   "cell_type": "markdown",
   "id": "7eda8c87-eef7-4b66-97ee-46629b214fc7",
   "metadata": {},
   "source": [
    "### 4. Você deve ter percebido que as colunas DATA INICIAL e DATA FINAL estão formatadas como string. Utilizando o método pd.to_datetime(), converta ambas colunas para Timestamp / Datetime."
   ]
  },
  {
   "cell_type": "code",
   "execution_count": null,
   "id": "6813ae62-bdd0-4f73-8278-7fa0e0027f9c",
   "metadata": {},
   "outputs": [],
   "source": []
  },
  {
   "cell_type": "markdown",
   "id": "2f9aaafa-f9a4-4f07-9bc6-86e5911c863c",
   "metadata": {},
   "source": [
    "### 5. Crie uma nova coluna para representar o ano e o mês(aaaa-mm), utilizando a coluna DATA FINAL como referência. "
   ]
  },
  {
   "cell_type": "code",
   "execution_count": null,
   "id": "03f15a92-bae5-4256-add1-a7c97fe9f01d",
   "metadata": {},
   "outputs": [],
   "source": []
  },
  {
   "cell_type": "markdown",
   "id": "7d25e880-b153-4cce-8268-8388c3de52a3",
   "metadata": {},
   "source": [
    "### 6. Utilizando o value_counts(), liste todos os tipos de produtos contidos na base de dados."
   ]
  },
  {
   "cell_type": "code",
   "execution_count": null,
   "id": "f953fa16-59bd-40d9-90c0-af138acb4191",
   "metadata": {},
   "outputs": [],
   "source": []
  },
  {
   "cell_type": "markdown",
   "id": "fab0300f-7c49-48be-b95a-948601713229",
   "metadata": {},
   "source": [
    "### 7. Filtre o DataFrame para obter apenas dados da 'GASOLINA COMUM'. Grave em uma nova variável."
   ]
  },
  {
   "cell_type": "code",
   "execution_count": null,
   "id": "6f1a53ad-2f8e-48b3-b1f3-05698caec5a7",
   "metadata": {},
   "outputs": [],
   "source": []
  },
  {
   "cell_type": "markdown",
   "id": "fb031b0b-51e7-43d7-b2cb-10da05019a73",
   "metadata": {},
   "source": [
    "### 8. Qual o preço médio de revenda da gasolina em agosto de 2008?"
   ]
  },
  {
   "cell_type": "code",
   "execution_count": null,
   "id": "3ba34e10-cc51-4b04-b67a-4245248907ed",
   "metadata": {},
   "outputs": [],
   "source": []
  },
  {
   "cell_type": "markdown",
   "id": "a57428cc-e9e6-48f8-a7f7-27fb9c87bcde",
   "metadata": {},
   "source": [
    "### 9. Qual o preço médio de revenda da gasolina em maio de 2014 em São Paulo?"
   ]
  },
  {
   "cell_type": "code",
   "execution_count": null,
   "id": "e981678b-85db-499a-8466-e24c455ea20c",
   "metadata": {},
   "outputs": [],
   "source": []
  },
  {
   "cell_type": "markdown",
   "id": "6ab2edd0-8bf7-49d7-b3e8-5535ec4a58cf",
   "metadata": {},
   "source": [
    "### 10. Você conseguiria descobrir em qual(quais) estado(s) a gasolina ultrapassou a barreira dos R$ 5,00? E quando isso ocorreu?"
   ]
  },
  {
   "cell_type": "code",
   "execution_count": null,
   "id": "32a9045a-899c-4775-8b66-c0490f3e62a7",
   "metadata": {},
   "outputs": [],
   "source": []
  },
  {
   "cell_type": "markdown",
   "id": "80f4c3a6-ba0e-43b0-a328-91c0aa04348c",
   "metadata": {},
   "source": [
    "### 11. Qual a média de preço dos estados da região sul em 2012?"
   ]
  },
  {
   "cell_type": "code",
   "execution_count": null,
   "id": "e6bbbe89-3dc9-4264-ba31-2ce5aa76054b",
   "metadata": {},
   "outputs": [],
   "source": []
  },
  {
   "cell_type": "markdown",
   "id": "28781cbf-0dba-4512-83df-87537e548c63",
   "metadata": {},
   "source": [
    "### 12. Você conseguiria obter uma tabela contendo a variação percentual ano a ano para o estado do Rio de Janeiro?"
   ]
  },
  {
   "cell_type": "code",
   "execution_count": null,
   "id": "09d2d505-127b-47ff-8fe5-0c6170da3900",
   "metadata": {},
   "outputs": [],
   "source": []
  },
  {
   "cell_type": "markdown",
   "id": "d5e51a54-13f7-4f62-9903-235ac6256b38",
   "metadata": {},
   "source": [
    "### DESAFIO: Crie uma tabela contendo uma serie temporal com a diferença absoluta e percentual entre os valores mais baratos e caros. Apresente também ao lado os estados na qual os maiores e menores preços foram registrados."
   ]
  },
  {
   "cell_type": "code",
   "execution_count": null,
   "id": "82b2263c-99d4-47ac-a7ea-ae5f1057d71f",
   "metadata": {},
   "outputs": [],
   "source": []
  }
 ],
 "metadata": {
  "kernelspec": {
   "display_name": "Pandas & SQL-efag",
   "language": "python",
   "name": "python3"
  },
  "language_info": {
   "codemirror_mode": {
    "name": "ipython",
    "version": 3
   },
   "file_extension": ".py",
   "mimetype": "text/x-python",
   "name": "python",
   "nbconvert_exporter": "python",
   "pygments_lexer": "ipython3",
   "version": "3.13.0"
  }
 },
 "nbformat": 4,
 "nbformat_minor": 5
}
