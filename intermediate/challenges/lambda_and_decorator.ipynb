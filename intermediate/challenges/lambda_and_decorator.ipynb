{
 "cells": [
  {
   "cell_type": "code",
   "execution_count": 9,
   "id": "f9baf28f-fecd-4318-b777-3dfa13bb9010",
   "metadata": {},
   "outputs": [
    {
     "data": {
      "text/plain": [
       "[25, 100]"
      ]
     },
     "execution_count": 9,
     "metadata": {},
     "output_type": "execute_result"
    }
   ],
   "source": [
    "valores = [1,2,3,5,10]\n",
    "\n",
    "quadrados_maiores_que_tres = [n**2 for n in valores if n > 3]\n",
    "\n",
    "quadrados_maiores_que_tres"
   ]
  },
  {
   "cell_type": "code",
   "execution_count": 11,
   "id": "f1013607-6d9e-48bf-b85f-4d4e16d8393b",
   "metadata": {},
   "outputs": [
    {
     "data": {
      "text/plain": [
       "[25, 100]"
      ]
     },
     "execution_count": 11,
     "metadata": {},
     "output_type": "execute_result"
    }
   ],
   "source": [
    "filter_maiores = filter(lambda n : n > 3, valores)\n",
    "result = map(lambda n: n**2, filter_maiores)\n",
    "list(result)"
   ]
  },
  {
   "cell_type": "code",
   "execution_count": 12,
   "id": "c04e3fc6-9ff2-4d7d-97f0-04d25af7345d",
   "metadata": {},
   "outputs": [],
   "source": [
    "def multiplicar_por(times):\n",
    "    def operation(n):\n",
    "        return n * times\n",
    "    return operation"
   ]
  },
  {
   "cell_type": "code",
   "execution_count": 13,
   "id": "1debb586-750e-41cb-8c16-73cf2ab0340c",
   "metadata": {},
   "outputs": [
    {
     "data": {
      "text/plain": [
       "6"
      ]
     },
     "execution_count": 13,
     "metadata": {},
     "output_type": "execute_result"
    }
   ],
   "source": [
    "dobrar = multiplicar_por(2)\n",
    "dobrar(3)"
   ]
  },
  {
   "cell_type": "code",
   "execution_count": 15,
   "id": "8b395407-060b-4f21-977d-3f2bb576e7b9",
   "metadata": {},
   "outputs": [
    {
     "data": {
      "text/plain": [
       "50"
      ]
     },
     "execution_count": 15,
     "metadata": {},
     "output_type": "execute_result"
    }
   ],
   "source": [
    "vezes_cinco = multiplicar_por(5)\n",
    "vezes_cinco(10)"
   ]
  },
  {
   "cell_type": "code",
   "execution_count": 20,
   "id": "0fcb34c6-d2c5-43f2-9830-6ec41c22280f",
   "metadata": {},
   "outputs": [
    {
     "name": "stdout",
     "output_type": "stream",
     "text": [
      "6\n",
      "50\n"
     ]
    }
   ],
   "source": [
    "import functools\n",
    "\n",
    "def mult(a,b):\n",
    "    return a * b\n",
    "\n",
    "def multiplicar_por(n):\n",
    "    return functools.partial(mult, b=n)\n",
    "\n",
    "dobrar = multiplicar_por(2)\n",
    "print(dobrar(3))\n",
    "\n",
    "vezes_cinco = multiplicar_por(5)\n",
    "print(vezes_cinco(10))"
   ]
  },
  {
   "cell_type": "code",
   "execution_count": null,
   "id": "368d6e7f-b3bf-4362-8764-f1b2ed0deb18",
   "metadata": {},
   "outputs": [],
   "source": []
  }
 ],
 "metadata": {
  "kernelspec": {
   "display_name": "Python 3 (ipykernel)",
   "language": "python",
   "name": "python3"
  },
  "language_info": {
   "codemirror_mode": {
    "name": "ipython",
    "version": 3
   },
   "file_extension": ".py",
   "mimetype": "text/x-python",
   "name": "python",
   "nbconvert_exporter": "python",
   "pygments_lexer": "ipython3",
   "version": "3.13.0"
  }
 },
 "nbformat": 4,
 "nbformat_minor": 5
}
