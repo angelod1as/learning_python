{
 "cells": [
  {
   "cell_type": "code",
   "execution_count": 26,
   "id": "48c4ec3d-ccb7-4618-a1b2-ad08d62a6797",
   "metadata": {},
   "outputs": [
    {
     "data": {
      "text/plain": [
       "[datetime.datetime(2023, 3, 15, 0, 0),\n",
       " datetime.datetime(2023, 2, 28, 0, 0),\n",
       " datetime.datetime(2023, 4, 10, 0, 0)]"
      ]
     },
     "execution_count": 26,
     "metadata": {},
     "output_type": "execute_result"
    }
   ],
   "source": [
    "import re\n",
    "import datetime\n",
    "\n",
    "texto = \"\"\"\n",
    "A reunião está marcada para o dia 15/03/2023.\n",
    "Lembre-se de entregar o relatório até 28/02/2023.\n",
    "O evento acontecerá em 10/04/2023 no auditório principal.\n",
    "\"\"\"\n",
    "\n",
    "regex = '[0-9]{2}/[0-9]{2}/[0-9]{4}'\n",
    "\n",
    "def to_datetime(match, template):\n",
    "    return datetime.datetime.strptime(match, template)\n",
    "\n",
    "def ler_datas(string):\n",
    "    matches = re.findall(regex,string)\n",
    "    \n",
    "    return [\n",
    "        to_datetime(match, '%d/%m/%Y') \n",
    "        for match in matches\n",
    "    ]\n",
    "    \n",
    "ler_datas(texto)"
   ]
  },
  {
   "cell_type": "code",
   "execution_count": 27,
   "id": "b1c34982-b02d-4255-89c3-5c1167ec13da",
   "metadata": {},
   "outputs": [
    {
     "data": {
      "text/plain": [
       "'5:20:48'"
      ]
     },
     "execution_count": 27,
     "metadata": {},
     "output_type": "execute_result"
    }
   ],
   "source": [
    "import datetime\n",
    "\n",
    "def diff_tempo(start,end):\n",
    "    template = '%H:%M:%S'\n",
    "    delta = to_datetime(end, template) - to_datetime(start, template)\n",
    "    return str(delta)\n",
    "\n",
    "diff_tempo('08:34:21','13:55:09')\n"
   ]
  },
  {
   "cell_type": "code",
   "execution_count": null,
   "id": "6a65a366-9aae-4a92-acab-a481dfa9105d",
   "metadata": {},
   "outputs": [],
   "source": []
  }
 ],
 "metadata": {
  "kernelspec": {
   "display_name": "Python 3 (ipykernel)",
   "language": "python",
   "name": "python3"
  },
  "language_info": {
   "codemirror_mode": {
    "name": "ipython",
    "version": 3
   },
   "file_extension": ".py",
   "mimetype": "text/x-python",
   "name": "python",
   "nbconvert_exporter": "python",
   "pygments_lexer": "ipython3",
   "version": "3.13.0"
  }
 },
 "nbformat": 4,
 "nbformat_minor": 5
}
