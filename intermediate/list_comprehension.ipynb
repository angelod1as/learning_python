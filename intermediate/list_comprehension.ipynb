{
 "cells": [
  {
   "cell_type": "markdown",
   "id": "205183c4-f482-41f2-9539-ae1e883047d2",
   "metadata": {},
   "source": [
    "# Compreensão de lista"
   ]
  },
  {
   "cell_type": "code",
   "execution_count": 1,
   "id": "d2cafacb-9399-451d-a24c-f43cc1b53a87",
   "metadata": {},
   "outputs": [],
   "source": [
    "valores = list(range(10))"
   ]
  },
  {
   "cell_type": "code",
   "execution_count": 2,
   "id": "d8f36bf2-976d-4cd7-9f38-8c124c58a106",
   "metadata": {},
   "outputs": [
    {
     "data": {
      "text/plain": [
       "[0, 1, 2, 3, 4, 5, 6, 7, 8, 9]"
      ]
     },
     "execution_count": 2,
     "metadata": {},
     "output_type": "execute_result"
    }
   ],
   "source": [
    "valores"
   ]
  },
  {
   "cell_type": "code",
   "execution_count": 4,
   "id": "6dd14ab3-9457-4ea2-b1e6-6e7238402f40",
   "metadata": {},
   "outputs": [],
   "source": [
    "maiores_que_cinco = []\n",
    "\n",
    "for valor in valores:\n",
    "    if valor > 5:\n",
    "        maiores_que_cinco.append(valor)"
   ]
  },
  {
   "cell_type": "code",
   "execution_count": 5,
   "id": "22b0d67f-59ba-4213-a63f-6fca6f77834a",
   "metadata": {},
   "outputs": [
    {
     "data": {
      "text/plain": [
       "[6, 7, 8, 9]"
      ]
     },
     "execution_count": 5,
     "metadata": {},
     "output_type": "execute_result"
    }
   ],
   "source": [
    "maiores_que_cinco"
   ]
  },
  {
   "cell_type": "markdown",
   "id": "47cf6e39-614e-497d-acfe-c3c7e8ff601f",
   "metadata": {},
   "source": [
    "NOVA_LISTA = \\[RESULTADO para cada ELEMENTO em SEQUÊNCIA se CONDIÇÃO\\]"
   ]
  },
  {
   "cell_type": "code",
   "execution_count": 8,
   "id": "b0ebfb30-f59f-41d0-8fc9-1cb997d8bc6c",
   "metadata": {},
   "outputs": [],
   "source": [
    "maiores_que_cinco = [valor for valor in valores if valor > 5]"
   ]
  },
  {
   "cell_type": "code",
   "execution_count": 9,
   "id": "f18441d6-0b53-46e2-a750-6760baeaaa0c",
   "metadata": {},
   "outputs": [
    {
     "data": {
      "text/plain": [
       "[6, 7, 8, 9]"
      ]
     },
     "execution_count": 9,
     "metadata": {},
     "output_type": "execute_result"
    }
   ],
   "source": [
    "maiores_que_cinco"
   ]
  },
  {
   "cell_type": "code",
   "execution_count": 10,
   "id": "2ae1f63b-686a-42be-bc7e-56156decd085",
   "metadata": {},
   "outputs": [],
   "source": [
    "def somar_dois_ao_quadrado(valor):\n",
    "    return (valor ** 2) + 2\n",
    "\n",
    "maiores_que_cinco = [\n",
    "    somar_dois_ao_quadrado(valor)\n",
    "    for valor in valores\n",
    "    if valor > 5]"
   ]
  },
  {
   "cell_type": "code",
   "execution_count": 11,
   "id": "51c5c4f0-d019-4472-ada1-84bc658341e9",
   "metadata": {},
   "outputs": [
    {
     "data": {
      "text/plain": [
       "[38, 51, 66, 83]"
      ]
     },
     "execution_count": 11,
     "metadata": {},
     "output_type": "execute_result"
    }
   ],
   "source": [
    "maiores_que_cinco"
   ]
  },
  {
   "cell_type": "code",
   "execution_count": 1,
   "id": "a390807d",
   "metadata": {},
   "outputs": [
    {
     "name": "stdout",
     "output_type": "stream",
     "text": [
      "{'leite': 3.85, 'carne': 22.68, 'maçã': 1.73}\n"
     ]
    }
   ],
   "source": [
    "valores_em_dolares = {\n",
    "'leite': 0.78,\n",
    "'carne': 4.60,\n",
    "'maçã': 0.35,\n",
    "}\n",
    "\n",
    "fator_conversao = 4.93\n",
    "\n",
    "valores_em_reais = {\n",
    "produto: round(preco * fator_conversao, 2)\n",
    "for (produto, preco) in valores_em_dolares.items()\n",
    "}\n",
    "valores_em_reais"
   ]
  },
  {
   "cell_type": "code",
   "execution_count": null,
   "id": "c88ab0a8",
   "metadata": {},
   "outputs": [],
   "source": []
  }
 ],
 "metadata": {
  "kernelspec": {
   "display_name": "Python 3",
   "language": "python",
   "name": "python3"
  },
  "language_info": {
   "codemirror_mode": {
    "name": "ipython",
    "version": 3
   },
   "file_extension": ".py",
   "mimetype": "text/x-python",
   "name": "python",
   "nbconvert_exporter": "python",
   "pygments_lexer": "ipython3",
   "version": "3.9.6"
  }
 },
 "nbformat": 4,
 "nbformat_minor": 5
}
