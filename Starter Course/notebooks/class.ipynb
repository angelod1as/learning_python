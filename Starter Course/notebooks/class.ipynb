{
 "cells": [
  {
   "cell_type": "code",
   "execution_count": 1,
   "id": "d07e75c8-19d2-40f5-9127-9e073224b862",
   "metadata": {},
   "outputs": [],
   "source": [
    "class Dog:\n",
    "    def __init__(self,raca):\n",
    "        self.idade = 10\n",
    "        self.raca = raca\n",
    "\n",
    "    def envelhecer(self):\n",
    "        self.idade += 1"
   ]
  },
  {
   "cell_type": "code",
   "execution_count": 2,
   "id": "4cb169fc-b2f1-4510-8d4a-05b15a6f5a32",
   "metadata": {},
   "outputs": [],
   "source": [
    "dog = Dog(\"Lab\")"
   ]
  },
  {
   "cell_type": "code",
   "execution_count": 3,
   "id": "5d392650-928e-4894-92a8-f5c5d16c2265",
   "metadata": {},
   "outputs": [
    {
     "data": {
      "text/plain": [
       "10"
      ]
     },
     "execution_count": 3,
     "metadata": {},
     "output_type": "execute_result"
    }
   ],
   "source": [
    "dog.idade"
   ]
  },
  {
   "cell_type": "code",
   "execution_count": 4,
   "id": "f506bc5e-8815-4667-a4d9-a79a40e15870",
   "metadata": {},
   "outputs": [],
   "source": [
    "dog2 = Dog(\"Huskie\")\n"
   ]
  },
  {
   "cell_type": "code",
   "execution_count": 5,
   "id": "4c73a968-3daa-45c1-a89d-d168af590900",
   "metadata": {},
   "outputs": [],
   "source": [
    "dog2.idade = 11"
   ]
  },
  {
   "cell_type": "code",
   "execution_count": 6,
   "id": "c588d8b9-c3bc-40b5-bb8d-7b37191b7e5a",
   "metadata": {},
   "outputs": [
    {
     "data": {
      "text/plain": [
       "11"
      ]
     },
     "execution_count": 6,
     "metadata": {},
     "output_type": "execute_result"
    }
   ],
   "source": [
    "dog2.idade"
   ]
  },
  {
   "cell_type": "code",
   "execution_count": 7,
   "id": "d5f113c2-236f-4703-94cc-bf6d891e20f0",
   "metadata": {},
   "outputs": [
    {
     "data": {
      "text/plain": [
       "10"
      ]
     },
     "execution_count": 7,
     "metadata": {},
     "output_type": "execute_result"
    }
   ],
   "source": [
    "dog.idade"
   ]
  },
  {
   "cell_type": "code",
   "execution_count": 8,
   "id": "06411ee4-a0eb-4485-9e9c-1b4f546fe566",
   "metadata": {},
   "outputs": [
    {
     "data": {
      "text/plain": [
       "'Lab'"
      ]
     },
     "execution_count": 8,
     "metadata": {},
     "output_type": "execute_result"
    }
   ],
   "source": [
    "dog.raca"
   ]
  },
  {
   "cell_type": "code",
   "execution_count": 9,
   "id": "14e68b4d-2313-4790-88fb-c05e893019df",
   "metadata": {},
   "outputs": [],
   "source": [
    "dog.envelhecer()"
   ]
  },
  {
   "cell_type": "code",
   "execution_count": 10,
   "id": "2b6a7c87-4309-4836-b4a0-9138c8e9f174",
   "metadata": {},
   "outputs": [
    {
     "data": {
      "text/plain": [
       "11"
      ]
     },
     "execution_count": 10,
     "metadata": {},
     "output_type": "execute_result"
    }
   ],
   "source": [
    "dog.idade\n"
   ]
  },
  {
   "cell_type": "markdown",
   "id": "4776f33c-abfa-4823-a653-42b02bce9f29",
   "metadata": {},
   "source": [
    "# Círculo"
   ]
  },
  {
   "cell_type": "markdown",
   "id": "2edadaad-99f6-418a-9cbf-bc1fd2735485",
   "metadata": {},
   "source": [
    "class Circle():\n",
    "    def __init__(self, raio=1):\n",
    "        self.raio = raio\n",
    "    def calcula_area(self):\n",
    "        return self.raio * self.raio * 3.14"
   ]
  },
  {
   "cell_type": "code",
   "execution_count": 13,
   "id": "673572b4-f914-4f1e-ba16-ca3165c34ecf",
   "metadata": {},
   "outputs": [],
   "source": [
    "circle = Circle()"
   ]
  },
  {
   "cell_type": "code",
   "execution_count": 14,
   "id": "ee39d7ad-1c62-4c1f-a7ee-c7f9f665bec6",
   "metadata": {},
   "outputs": [
    {
     "data": {
      "text/plain": [
       "1"
      ]
     },
     "execution_count": 14,
     "metadata": {},
     "output_type": "execute_result"
    }
   ],
   "source": [
    "circle.raio"
   ]
  },
  {
   "cell_type": "code",
   "execution_count": 16,
   "id": "a1eaafbb-0189-49e0-a6d5-e1bdc703c23b",
   "metadata": {},
   "outputs": [
    {
     "data": {
      "text/plain": [
       "3.14"
      ]
     },
     "execution_count": 16,
     "metadata": {},
     "output_type": "execute_result"
    }
   ],
   "source": [
    "circle.calcula_area()"
   ]
  },
  {
   "cell_type": "markdown",
   "id": "a932fbb6-bb35-4d2e-a443-dbd10e0c7afd",
   "metadata": {},
   "source": [
    "# Herança"
   ]
  },
  {
   "cell_type": "code",
   "execution_count": 26,
   "id": "08693a32-31de-459b-b6c7-db8b7216c317",
   "metadata": {},
   "outputs": [],
   "source": [
    "class Animal():\n",
    "    def __init__(self):\n",
    "        print(\"Animal criado\")\n",
    "\n",
    "\n",
    "    def quem_sou_eu(self):\n",
    "        print(\"eu sou um animal\")\n",
    "\n",
    "    def comer(self):\n",
    "        print(\"Comendo\")\n",
    "\n",
    "class Cachorro(Animal):\n",
    "    def __init__(self):\n",
    "        Animal.__init__(self)\n",
    "        print(\"eu sou um cachorro\")\n",
    "        \n",
    "    def quem_sou_eu(self):\n",
    "        print(\"eu sou um cachorro\")"
   ]
  },
  {
   "cell_type": "code",
   "execution_count": 22,
   "id": "2f5a3b2d-153a-4949-abb4-51127db7b553",
   "metadata": {},
   "outputs": [
    {
     "name": "stdout",
     "output_type": "stream",
     "text": [
      "Animal criado\n"
     ]
    }
   ],
   "source": [
    "animal = Animal()"
   ]
  },
  {
   "cell_type": "code",
   "execution_count": 27,
   "id": "b15f76ae-1408-4d57-a1c1-91319659ba8b",
   "metadata": {},
   "outputs": [
    {
     "name": "stdout",
     "output_type": "stream",
     "text": [
      "Animal criado\n",
      "eu sou um cachorro\n"
     ]
    }
   ],
   "source": [
    "dog = Cachorro()"
   ]
  },
  {
   "cell_type": "code",
   "execution_count": 28,
   "id": "93faf819-a9af-4ae6-87d1-94478750937b",
   "metadata": {},
   "outputs": [
    {
     "name": "stdout",
     "output_type": "stream",
     "text": [
      "eu sou um cachorro\n"
     ]
    }
   ],
   "source": [
    "dog.quem_sou_eu()"
   ]
  },
  {
   "cell_type": "code",
   "execution_count": null,
   "id": "84c20b65-1e24-4be9-872d-104010acef6f",
   "metadata": {},
   "outputs": [],
   "source": []
  }
 ],
 "metadata": {
  "kernelspec": {
   "display_name": "Python 3 (ipykernel)",
   "language": "python",
   "name": "python3"
  },
  "language_info": {
   "codemirror_mode": {
    "name": "ipython",
    "version": 3
   },
   "file_extension": ".py",
   "mimetype": "text/x-python",
   "name": "python",
   "nbconvert_exporter": "python",
   "pygments_lexer": "ipython3",
   "version": "3.13.0"
  }
 },
 "nbformat": 4,
 "nbformat_minor": 5
}
