{
 "cells": [
  {
   "cell_type": "markdown",
   "id": "aa00cc5c-0626-4e83-812c-f0b985deba60",
   "metadata": {},
   "source": [
    "# "
   ]
  },
  {
   "cell_type": "code",
   "execution_count": 20,
   "id": "9a08e0e8-3edf-443a-b8fb-170d49bdefa4",
   "metadata": {},
   "outputs": [],
   "source": [
    "A = {1,2,3,4}"
   ]
  },
  {
   "cell_type": "code",
   "execution_count": 3,
   "id": "d76f4577-42ff-48b7-ad37-fd5ab0572647",
   "metadata": {},
   "outputs": [
    {
     "data": {
      "text/plain": [
       "{1, 2, 3, 4}"
      ]
     },
     "execution_count": 3,
     "metadata": {},
     "output_type": "execute_result"
    }
   ],
   "source": [
    "A"
   ]
  },
  {
   "cell_type": "code",
   "execution_count": 4,
   "id": "53677dfa-b7c8-4a8f-ab09-5feef2aa5e84",
   "metadata": {},
   "outputs": [
    {
     "data": {
      "text/plain": [
       "set"
      ]
     },
     "execution_count": 4,
     "metadata": {},
     "output_type": "execute_result"
    }
   ],
   "source": [
    "type(A)"
   ]
  },
  {
   "cell_type": "code",
   "execution_count": 6,
   "id": "45c080d8-5459-45bf-b79c-6d45d0ab599b",
   "metadata": {},
   "outputs": [],
   "source": [
    "B=set([3,4,5,6,7])"
   ]
  },
  {
   "cell_type": "code",
   "execution_count": 7,
   "id": "86b386da-5e39-4ac4-9e05-f21b4c9fd921",
   "metadata": {},
   "outputs": [
    {
     "data": {
      "text/plain": [
       "{3, 4, 5, 6, 7}"
      ]
     },
     "execution_count": 7,
     "metadata": {},
     "output_type": "execute_result"
    }
   ],
   "source": [
    "B"
   ]
  },
  {
   "cell_type": "code",
   "execution_count": 11,
   "id": "ed0f522a-abba-476d-a8ef-ddb45da6d036",
   "metadata": {},
   "outputs": [],
   "source": [
    "A = {1,1,1,1,2,3,4}"
   ]
  },
  {
   "cell_type": "code",
   "execution_count": 12,
   "id": "2cfa2f50-4263-4928-b240-e917bfce1934",
   "metadata": {},
   "outputs": [
    {
     "data": {
      "text/plain": [
       "[1, 2, 3, 4, 5]"
      ]
     },
     "execution_count": 12,
     "metadata": {},
     "output_type": "execute_result"
    }
   ],
   "source": [
    "numeros = [1,2,3,4,5,4,3,2,1]\n",
    "numeros_unicos = list(set(numeros))\n",
    "numeros_unicos"
   ]
  },
  {
   "cell_type": "code",
   "execution_count": 14,
   "id": "a48c26ab-108d-44a1-b106-5a2083518047",
   "metadata": {},
   "outputs": [],
   "source": [
    "A = {10, 'Python', 1.0, False}"
   ]
  },
  {
   "cell_type": "code",
   "execution_count": 16,
   "id": "b796d61b-6e39-47ee-b841-47579afc2ba3",
   "metadata": {},
   "outputs": [
    {
     "data": {
      "text/plain": [
       "{1.0, 10, False, 'Python'}"
      ]
     },
     "execution_count": 16,
     "metadata": {},
     "output_type": "execute_result"
    }
   ],
   "source": [
    "A"
   ]
  },
  {
   "cell_type": "code",
   "execution_count": 21,
   "id": "e8d95ec9-5fff-44d4-abb2-87c576fe77d9",
   "metadata": {},
   "outputs": [
    {
     "data": {
      "text/plain": [
       "{1, 2, 3, 4, 5, 6, 7}"
      ]
     },
     "execution_count": 21,
     "metadata": {},
     "output_type": "execute_result"
    }
   ],
   "source": [
    "A.union(B)"
   ]
  },
  {
   "cell_type": "code",
   "execution_count": 22,
   "id": "7f70e2ab-9006-47d6-8b56-26e26c208118",
   "metadata": {},
   "outputs": [
    {
     "data": {
      "text/plain": [
       "{1, 2, 3, 4, 5, 6, 7}"
      ]
     },
     "execution_count": 22,
     "metadata": {},
     "output_type": "execute_result"
    }
   ],
   "source": [
    "A | B"
   ]
  },
  {
   "cell_type": "code",
   "execution_count": 23,
   "id": "b49a9835-c0f8-44cd-8db5-811bdbcd68f4",
   "metadata": {},
   "outputs": [
    {
     "data": {
      "text/plain": [
       "{3, 4}"
      ]
     },
     "execution_count": 23,
     "metadata": {},
     "output_type": "execute_result"
    }
   ],
   "source": [
    "A.intersection(B)"
   ]
  },
  {
   "cell_type": "code",
   "execution_count": 24,
   "id": "7d8ed531-3a52-45ba-acc1-593cd67935bc",
   "metadata": {},
   "outputs": [
    {
     "data": {
      "text/plain": [
       "{3, 4}"
      ]
     },
     "execution_count": 24,
     "metadata": {},
     "output_type": "execute_result"
    }
   ],
   "source": [
    "A & B"
   ]
  },
  {
   "cell_type": "code",
   "execution_count": 25,
   "id": "40172a3d-caef-45cd-b357-bdc86905149b",
   "metadata": {},
   "outputs": [
    {
     "data": {
      "text/plain": [
       "{1, 2}"
      ]
     },
     "execution_count": 25,
     "metadata": {},
     "output_type": "execute_result"
    }
   ],
   "source": [
    "A.difference(B)"
   ]
  },
  {
   "cell_type": "code",
   "execution_count": 27,
   "id": "20c37e0a-3668-4f80-abc3-3fcfcbfbb66d",
   "metadata": {},
   "outputs": [
    {
     "data": {
      "text/plain": [
       "{1, 2}"
      ]
     },
     "execution_count": 27,
     "metadata": {},
     "output_type": "execute_result"
    }
   ],
   "source": [
    "A - B"
   ]
  },
  {
   "cell_type": "code",
   "execution_count": 28,
   "id": "abfa2031-3345-450c-8417-94ab22b091ee",
   "metadata": {},
   "outputs": [
    {
     "data": {
      "text/plain": [
       "{1, 2, 5, 6, 7}"
      ]
     },
     "execution_count": 28,
     "metadata": {},
     "output_type": "execute_result"
    }
   ],
   "source": [
    "A.symmetric_difference(B)"
   ]
  },
  {
   "cell_type": "code",
   "execution_count": 29,
   "id": "4c96c965-dbd2-4d78-84fc-3afa97bae5ef",
   "metadata": {},
   "outputs": [
    {
     "data": {
      "text/plain": [
       "{1, 2, 5, 6, 7}"
      ]
     },
     "execution_count": 29,
     "metadata": {},
     "output_type": "execute_result"
    }
   ],
   "source": [
    "(A - B) | (B - A)"
   ]
  },
  {
   "cell_type": "code",
   "execution_count": 35,
   "id": "326f84aa-40c3-4b53-9bf8-d1cf0c2cfbd0",
   "metadata": {},
   "outputs": [],
   "source": [
    "numeros = list(range(1000))"
   ]
  },
  {
   "cell_type": "code",
   "execution_count": 39,
   "id": "5d2a8056-9ccc-41b6-bc88-bde1a9f09c2d",
   "metadata": {},
   "outputs": [
    {
     "name": "stdout",
     "output_type": "stream",
     "text": [
      "1.87 μs ± 4.64 ns per loop (mean ± std. dev. of 7 runs, 1,000,000 loops each)\n"
     ]
    }
   ],
   "source": [
    "%timeit 500 in numeros"
   ]
  },
  {
   "cell_type": "code",
   "execution_count": 40,
   "id": "df5c6ef2-9904-4d22-9340-984f04fdd63f",
   "metadata": {},
   "outputs": [],
   "source": [
    "conj_numeros = set(numeros)"
   ]
  },
  {
   "cell_type": "code",
   "execution_count": 41,
   "id": "51cbd830-6976-4ddc-8a8b-2add21957a52",
   "metadata": {},
   "outputs": [
    {
     "name": "stdout",
     "output_type": "stream",
     "text": [
      "17.9 ns ± 0.104 ns per loop (mean ± std. dev. of 7 runs, 100,000,000 loops each)\n"
     ]
    }
   ],
   "source": [
    "%timeit 500 in conj_numeros"
   ]
  }
 ],
 "metadata": {
  "kernelspec": {
   "display_name": "Python 3 (ipykernel)",
   "language": "python",
   "name": "python3"
  },
  "language_info": {
   "codemirror_mode": {
    "name": "ipython",
    "version": 3
   },
   "file_extension": ".py",
   "mimetype": "text/x-python",
   "name": "python",
   "nbconvert_exporter": "python",
   "pygments_lexer": "ipython3",
   "version": "3.13.0"
  }
 },
 "nbformat": 4,
 "nbformat_minor": 5
}
