{
 "cells": [
  {
   "attachments": {},
   "cell_type": "markdown",
   "id": "cf9f26d8",
   "metadata": {},
   "source": [
    "# Realizando cálculos e análises"
   ]
  },
  {
   "cell_type": "code",
   "execution_count": 1,
   "id": "0b62f393",
   "metadata": {},
   "outputs": [
    {
     "data": {
      "text/html": [
       "<div>\n",
       "<style scoped>\n",
       "    .dataframe tbody tr th:only-of-type {\n",
       "        vertical-align: middle;\n",
       "    }\n",
       "\n",
       "    .dataframe tbody tr th {\n",
       "        vertical-align: top;\n",
       "    }\n",
       "\n",
       "    .dataframe thead th {\n",
       "        text-align: right;\n",
       "    }\n",
       "</style>\n",
       "<table border=\"1\" class=\"dataframe\">\n",
       "  <thead>\n",
       "    <tr style=\"text-align: right;\">\n",
       "      <th></th>\n",
       "      <th>data</th>\n",
       "      <th>id_venda</th>\n",
       "      <th>filial</th>\n",
       "      <th>vendedor</th>\n",
       "      <th>produto</th>\n",
       "      <th>cliente_nome</th>\n",
       "      <th>cliente_genero</th>\n",
       "      <th>forma_pagamento</th>\n",
       "      <th>preco</th>\n",
       "    </tr>\n",
       "  </thead>\n",
       "  <tbody>\n",
       "    <tr>\n",
       "      <th>0</th>\n",
       "      <td>2023-01-20 08:00:56.384224</td>\n",
       "      <td>0</td>\n",
       "      <td>Canoas</td>\n",
       "      <td>Luis Fernando</td>\n",
       "      <td>Tenis Nike</td>\n",
       "      <td>Sabrina Rieke</td>\n",
       "      <td>feminino</td>\n",
       "      <td>credito</td>\n",
       "      <td>300</td>\n",
       "    </tr>\n",
       "    <tr>\n",
       "      <th>1</th>\n",
       "      <td>2023-01-20 08:50:58.755843</td>\n",
       "      <td>1</td>\n",
       "      <td>Florianópolis</td>\n",
       "      <td>Mario Sérgio</td>\n",
       "      <td>Tenis Adidas</td>\n",
       "      <td>Patsy Lovell</td>\n",
       "      <td>feminino</td>\n",
       "      <td>credito</td>\n",
       "      <td>450</td>\n",
       "    </tr>\n",
       "    <tr>\n",
       "      <th>2</th>\n",
       "      <td>2023-01-20 11:44:56.776745</td>\n",
       "      <td>2</td>\n",
       "      <td>Canoas</td>\n",
       "      <td>Carlos Henrique</td>\n",
       "      <td>Tenis Adidas</td>\n",
       "      <td>John Crandall</td>\n",
       "      <td>masculino</td>\n",
       "      <td>credito</td>\n",
       "      <td>450</td>\n",
       "    </tr>\n",
       "    <tr>\n",
       "      <th>3</th>\n",
       "      <td>2023-01-20 12:07:58.025749</td>\n",
       "      <td>3</td>\n",
       "      <td>Caxias do Sul</td>\n",
       "      <td>Rodrigo Vanzeloti</td>\n",
       "      <td>Tenis Adidas</td>\n",
       "      <td>Mildred Mcleod</td>\n",
       "      <td>feminino</td>\n",
       "      <td>credito</td>\n",
       "      <td>450</td>\n",
       "    </tr>\n",
       "    <tr>\n",
       "      <th>4</th>\n",
       "      <td>2023-01-20 12:49:56.606703</td>\n",
       "      <td>4</td>\n",
       "      <td>São Paulo</td>\n",
       "      <td>Cassia Moraes</td>\n",
       "      <td>Tenis NB</td>\n",
       "      <td>Robert Mccormick</td>\n",
       "      <td>masculino</td>\n",
       "      <td>credito</td>\n",
       "      <td>500</td>\n",
       "    </tr>\n",
       "  </tbody>\n",
       "</table>\n",
       "</div>"
      ],
      "text/plain": [
       "                         data  id_venda         filial           vendedor  \\\n",
       "0  2023-01-20 08:00:56.384224         0         Canoas      Luis Fernando   \n",
       "1  2023-01-20 08:50:58.755843         1  Florianópolis       Mario Sérgio   \n",
       "2  2023-01-20 11:44:56.776745         2         Canoas    Carlos Henrique   \n",
       "3  2023-01-20 12:07:58.025749         3  Caxias do Sul  Rodrigo Vanzeloti   \n",
       "4  2023-01-20 12:49:56.606703         4      São Paulo      Cassia Moraes   \n",
       "\n",
       "        produto      cliente_nome cliente_genero forma_pagamento  preco  \n",
       "0    Tenis Nike     Sabrina Rieke       feminino         credito    300  \n",
       "1  Tenis Adidas      Patsy Lovell       feminino         credito    450  \n",
       "2  Tenis Adidas     John Crandall      masculino         credito    450  \n",
       "3  Tenis Adidas    Mildred Mcleod       feminino         credito    450  \n",
       "4      Tenis NB  Robert Mccormick      masculino         credito    500  "
      ]
     },
     "execution_count": 1,
     "metadata": {},
     "output_type": "execute_result"
    }
   ],
   "source": [
    "import pandas as pd\n",
    "\n",
    "df_vendas = pd.read_csv('datasets/vendas.csv', sep=';', decimal=',')\n",
    "df_produtos = pd.read_csv('datasets/produtos.csv', sep=';', decimal=',', index_col=0)\n",
    "\n",
    "df_produtos = df_produtos.rename(columns={'nome': 'produto'})\n",
    "df_produtos = df_produtos[['produto', 'preco']]\n",
    "df_vendas = pd.merge(left=df_vendas,\n",
    "                    right=df_produtos,\n",
    "                    on ='produto',\n",
    "                    how ='left')\n",
    "df_vendas.head(5)"
   ]
  },
  {
   "attachments": {},
   "cell_type": "markdown",
   "id": "d1139ebe",
   "metadata": {},
   "source": [
    "## Vendo as características gerais dos dados"
   ]
  },
  {
   "attachments": {},
   "cell_type": "markdown",
   "id": "42c4c38e",
   "metadata": {},
   "source": [
    "### .describe"
   ]
  },
  {
   "cell_type": "code",
   "execution_count": 2,
   "id": "93a00cec",
   "metadata": {},
   "outputs": [
    {
     "data": {
      "text/html": [
       "<div>\n",
       "<style scoped>\n",
       "    .dataframe tbody tr th:only-of-type {\n",
       "        vertical-align: middle;\n",
       "    }\n",
       "\n",
       "    .dataframe tbody tr th {\n",
       "        vertical-align: top;\n",
       "    }\n",
       "\n",
       "    .dataframe thead th {\n",
       "        text-align: right;\n",
       "    }\n",
       "</style>\n",
       "<table border=\"1\" class=\"dataframe\">\n",
       "  <thead>\n",
       "    <tr style=\"text-align: right;\">\n",
       "      <th></th>\n",
       "      <th>id_venda</th>\n",
       "      <th>preco</th>\n",
       "    </tr>\n",
       "  </thead>\n",
       "  <tbody>\n",
       "    <tr>\n",
       "      <th>count</th>\n",
       "      <td>2000.000000</td>\n",
       "      <td>2000.000000</td>\n",
       "    </tr>\n",
       "    <tr>\n",
       "      <th>mean</th>\n",
       "      <td>999.500000</td>\n",
       "      <td>374.600000</td>\n",
       "    </tr>\n",
       "    <tr>\n",
       "      <th>std</th>\n",
       "      <td>577.494589</td>\n",
       "      <td>103.465901</td>\n",
       "    </tr>\n",
       "    <tr>\n",
       "      <th>min</th>\n",
       "      <td>0.000000</td>\n",
       "      <td>250.000000</td>\n",
       "    </tr>\n",
       "    <tr>\n",
       "      <th>25%</th>\n",
       "      <td>499.750000</td>\n",
       "      <td>250.000000</td>\n",
       "    </tr>\n",
       "    <tr>\n",
       "      <th>50%</th>\n",
       "      <td>999.500000</td>\n",
       "      <td>300.000000</td>\n",
       "    </tr>\n",
       "    <tr>\n",
       "      <th>75%</th>\n",
       "      <td>1499.250000</td>\n",
       "      <td>500.000000</td>\n",
       "    </tr>\n",
       "    <tr>\n",
       "      <th>max</th>\n",
       "      <td>1999.000000</td>\n",
       "      <td>500.000000</td>\n",
       "    </tr>\n",
       "  </tbody>\n",
       "</table>\n",
       "</div>"
      ],
      "text/plain": [
       "          id_venda        preco\n",
       "count  2000.000000  2000.000000\n",
       "mean    999.500000   374.600000\n",
       "std     577.494589   103.465901\n",
       "min       0.000000   250.000000\n",
       "25%     499.750000   250.000000\n",
       "50%     999.500000   300.000000\n",
       "75%    1499.250000   500.000000\n",
       "max    1999.000000   500.000000"
      ]
     },
     "execution_count": 2,
     "metadata": {},
     "output_type": "execute_result"
    }
   ],
   "source": [
    "df_vendas.describe()"
   ]
  },
  {
   "attachments": {},
   "cell_type": "markdown",
   "id": "cda83ff3",
   "metadata": {},
   "source": [
    "### .info"
   ]
  },
  {
   "cell_type": "code",
   "execution_count": 3,
   "id": "85e2bf99",
   "metadata": {},
   "outputs": [
    {
     "name": "stdout",
     "output_type": "stream",
     "text": [
      "<class 'pandas.core.frame.DataFrame'>\n",
      "RangeIndex: 2000 entries, 0 to 1999\n",
      "Data columns (total 9 columns):\n",
      " #   Column           Non-Null Count  Dtype \n",
      "---  ------           --------------  ----- \n",
      " 0   data             2000 non-null   object\n",
      " 1   id_venda         2000 non-null   int64 \n",
      " 2   filial           2000 non-null   object\n",
      " 3   vendedor         2000 non-null   object\n",
      " 4   produto          2000 non-null   object\n",
      " 5   cliente_nome     2000 non-null   object\n",
      " 6   cliente_genero   2000 non-null   object\n",
      " 7   forma_pagamento  2000 non-null   object\n",
      " 8   preco            2000 non-null   int64 \n",
      "dtypes: int64(2), object(7)\n",
      "memory usage: 140.8+ KB\n"
     ]
    }
   ],
   "source": [
    "df_vendas.info()"
   ]
  },
  {
   "attachments": {},
   "cell_type": "markdown",
   "id": "f3faa218",
   "metadata": {},
   "source": [
    "## Contando valores únicos"
   ]
  },
  {
   "cell_type": "code",
   "execution_count": 6,
   "id": "1912c83c",
   "metadata": {},
   "outputs": [
    {
     "data": {
      "text/plain": [
       "filial\n",
       "Florianópolis    349\n",
       "São Paulo        343\n",
       "Canoas           337\n",
       "Porto Alegre     335\n",
       "Lajeado          325\n",
       "Caxias do Sul    311\n",
       "Name: count, dtype: int64"
      ]
     },
     "execution_count": 6,
     "metadata": {},
     "output_type": "execute_result"
    }
   ],
   "source": [
    "df_vendas['filial'].value_counts()"
   ]
  },
  {
   "cell_type": "code",
   "execution_count": 7,
   "id": "d913b07e",
   "metadata": {},
   "outputs": [
    {
     "data": {
      "text/plain": [
       "filial\n",
       "Florianópolis    17.45\n",
       "São Paulo        17.15\n",
       "Canoas           16.85\n",
       "Porto Alegre     16.75\n",
       "Lajeado          16.25\n",
       "Caxias do Sul    15.55\n",
       "Name: proportion, dtype: float64"
      ]
     },
     "execution_count": 7,
     "metadata": {},
     "output_type": "execute_result"
    }
   ],
   "source": [
    "df_vendas['filial'].value_counts(normalize=True) * 100"
   ]
  },
  {
   "cell_type": "code",
   "execution_count": 9,
   "id": "779e51d1",
   "metadata": {},
   "outputs": [
    {
     "data": {
      "text/plain": [
       "['Canoas',\n",
       " 'Florianópolis',\n",
       " 'Caxias do Sul',\n",
       " 'São Paulo',\n",
       " 'Lajeado',\n",
       " 'Porto Alegre']"
      ]
     },
     "execution_count": 9,
     "metadata": {},
     "output_type": "execute_result"
    }
   ],
   "source": [
    "list(df_vendas['filial'].unique())"
   ]
  },
  {
   "attachments": {},
   "cell_type": "markdown",
   "id": "a4b54007",
   "metadata": {},
   "source": [
    "## Operações por toda a tabela e por coluna"
   ]
  },
  {
   "cell_type": "code",
   "execution_count": 12,
   "id": "5deb556e",
   "metadata": {},
   "outputs": [
    {
     "data": {
      "text/plain": [
       "data               2023-01-20 08:00:56.3842242023-01-20 08:50:58....\n",
       "id_venda                                                     1999000\n",
       "filial             CanoasFlorianópolisCanoasCaxias do SulSão Paul...\n",
       "vendedor           Luis FernandoMario SérgioCarlos HenriqueRodrig...\n",
       "produto            Tenis NikeTenis AdidasTenis AdidasTenis Adidas...\n",
       "cliente_nome       Sabrina RiekePatsy LovellJohn CrandallMildred ...\n",
       "cliente_genero     femininofemininomasculinofemininomasculinomasc...\n",
       "forma_pagamento    creditocreditocreditocreditocreditopixboletocr...\n",
       "preco                                                         749200\n",
       "dtype: object"
      ]
     },
     "execution_count": 12,
     "metadata": {},
     "output_type": "execute_result"
    }
   ],
   "source": [
    "df_vendas.sum()"
   ]
  },
  {
   "cell_type": "code",
   "execution_count": 13,
   "id": "fee86ef5",
   "metadata": {},
   "outputs": [
    {
     "data": {
      "text/plain": [
       "np.int64(749200)"
      ]
     },
     "execution_count": 13,
     "metadata": {},
     "output_type": "execute_result"
    }
   ],
   "source": [
    "df_vendas['preco'].sum()"
   ]
  },
  {
   "cell_type": "code",
   "execution_count": 14,
   "id": "5bbdb9aa",
   "metadata": {},
   "outputs": [
    {
     "data": {
      "text/plain": [
       "np.int64(250)"
      ]
     },
     "execution_count": 14,
     "metadata": {},
     "output_type": "execute_result"
    }
   ],
   "source": [
    "df_vendas['preco'].min()"
   ]
  },
  {
   "cell_type": "code",
   "execution_count": 15,
   "id": "67498158",
   "metadata": {},
   "outputs": [
    {
     "data": {
      "text/plain": [
       "np.int64(500)"
      ]
     },
     "execution_count": 15,
     "metadata": {},
     "output_type": "execute_result"
    }
   ],
   "source": [
    "df_vendas['preco'].max()"
   ]
  },
  {
   "cell_type": "code",
   "execution_count": 16,
   "id": "266f1d09",
   "metadata": {},
   "outputs": [
    {
     "data": {
      "text/plain": [
       "np.float64(300.0)"
      ]
     },
     "execution_count": 16,
     "metadata": {},
     "output_type": "execute_result"
    }
   ],
   "source": [
    "df_vendas['preco'].median()"
   ]
  },
  {
   "cell_type": "code",
   "execution_count": 17,
   "id": "3688bf39",
   "metadata": {},
   "outputs": [
    {
     "data": {
      "text/plain": [
       "np.float64(374.6)"
      ]
     },
     "execution_count": 17,
     "metadata": {},
     "output_type": "execute_result"
    }
   ],
   "source": [
    "df_vendas['preco'].mean()"
   ]
  },
  {
   "cell_type": "code",
   "execution_count": 20,
   "id": "01712183",
   "metadata": {},
   "outputs": [
    {
     "data": {
      "text/plain": [
       "np.int64(2000)"
      ]
     },
     "execution_count": 20,
     "metadata": {},
     "output_type": "execute_result"
    }
   ],
   "source": [
    "df_vendas['preco'].count()"
   ]
  }
 ],
 "metadata": {
  "kernelspec": {
   "display_name": "excel-nrzs",
   "language": "python",
   "name": "python3"
  },
  "language_info": {
   "codemirror_mode": {
    "name": "ipython",
    "version": 3
   },
   "file_extension": ".py",
   "mimetype": "text/x-python",
   "name": "python",
   "nbconvert_exporter": "python",
   "pygments_lexer": "ipython3",
   "version": "3.13.0"
  }
 },
 "nbformat": 4,
 "nbformat_minor": 5
}
